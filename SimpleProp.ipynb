{
 "cells": [
  {
   "cell_type": "markdown",
   "metadata": {},
   "source": [
    "## Example Workbook For Creating Propeller CHARM Input Files from OpenVSP\n",
    "This workbook is designed to be a simple example of how to generate input files for CHARM from an OpenVSP file using Uber developed python helper packages"
   ]
  },
  {
   "cell_type": "markdown",
   "metadata": {},
   "source": [
    "### Import packages\n",
    "The first step in using the utilties is to import the distributed packages as well as any other packages needed to manipulate the case setup"
   ]
  },
  {
   "cell_type": "code",
   "execution_count": null,
   "metadata": {
    "collapsed": true
   },
   "outputs": [],
   "source": [
    "# Import the helper packages\n",
    "import charm.input_automation as charm\n",
    "import openvsp as vsp\n",
    "import utilities.units as u\n",
    "\n",
    "# Import standard useful python packages\n",
    "import os\n",
    "import math"
   ]
  },
  {
   "cell_type": "markdown",
   "metadata": {},
   "source": [
    "### Define Case Specific Constants\n",
    "Next we will define some constants for the specifics of this example case"
   ]
  },
  {
   "cell_type": "code",
   "execution_count": null,
   "metadata": {
    "collapsed": true
   },
   "outputs": [],
   "source": [
    "# directory definitions\n",
    "base_directory = \"simple_prop\"\n",
    "template_directory = \"templates\"\n",
    "geom_directory = \"geom\"\n",
    "run_directory = \"runs\"\n",
    "\n",
    "overwrite_files = True\n",
    "\n",
    "# vsp specifics\n",
    "vsp_filename = \"prop.vsp3\"\n",
    "vsp_propname = \"Prop\"\n",
    "vsp_charm_set_name = \"Charm\"\n",
    "\n",
    "# charm template files\n",
    "charm_rw_template = \"proprw.inp\" # rotor wake template file\n",
    "charm_rc_template = \"prop.inp\" # run characteristics file\n",
    "charm_casename = \"prop\" # name of the charm case\n",
    "\n",
    "# Solution Specifics\n",
    "airspeed_fts = 100.0 * u.mph2fts # Airspeed in feet per second\n",
    "tilt_deg = 0.0 # 0.0 = axial flow, 90.0 = edgewise\n",
    "alpha_deg = 0.0 # 0.0 air along x axis, 90.0 vertical climb\n",
    "prop_rpm = 1500.0 # propeller RPM\n",
    "prop_collective = 0.0 # propeller collective"
   ]
  },
  {
   "cell_type": "markdown",
   "metadata": {},
   "source": [
    "### Import OpenVSP Geometry & Plot"
   ]
  },
  {
   "cell_type": "code",
   "execution_count": null,
   "metadata": {
    "collapsed": true
   },
   "outputs": [],
   "source": [
    "# Reset VSP's state\n",
    "vsp.VSPRenew()\n",
    "vsp.ClearVSPModel()\n",
    "vsp.DeleteAllResults()\n",
    "\n",
    "# Load in the vsp model\n",
    "vsp.ReadVSPFile(os.path.join(base_directory, geom_directory, vsp_filename))\n",
    "\n",
    "# Get the geom id of the propeller\n",
    "vsp_propid = vsp.FindGeom(vsp_propname, 0)\n",
    "\n",
    "# Apply the tilt angle in vsp\n",
    "vsp.SetParmVal(vsp_propid, \"Y_Rel_Rotation\", \"XForm\", tilt_deg)\n",
    "\n",
    "# Update the vsp model\n",
    "vsp.Update()\n",
    "\n",
    "# Run degen geom and plot\n",
    "vsp_charm_set_index = vsp.GetSetIndex(vsp_charm_set_name)\n",
    "dg_mgr = vsp.run_degen_geom(set_name=vsp_charm_set_name)\n",
    "prop_info = vsp.get_propeller_thrust_vectors(prop_set=vsp_charm_set_index)\n",
    "\n",
    "# Plot propellers\n",
    "prop_fig = vsp.plot_propeller_info(prop_info, vector_scale=20)"
   ]
  },
  {
   "cell_type": "markdown",
   "metadata": {},
   "source": [
    "### Create inputs for charm\n",
    "Now that the geometry has been loaded, and the we have verified its position, we can now generate the charm input files"
   ]
  },
  {
   "cell_type": "code",
   "execution_count": null,
   "metadata": {
    "collapsed": true
   },
   "outputs": [],
   "source": [
    "# Clear out old vsp results\n",
    "vsp.DeleteAllResults()\n",
    "\n",
    "# Run degen geom on the charm set\n",
    "degen_mgr = vsp.run_degen_geom(set_index=vsp_charm_set_index)\n",
    "\n",
    "# Read in template file\n",
    "rotor_rw = []\n",
    "with open(os.path.join(base_directory, template_directory, charm_rw_template), \"r\") as f:\n",
    "    rotor_rw = f.readlines()\n",
    "\n",
    "\n",
    "# Initialize the rotor settings object\n",
    "rotor_settings = charm.build_default_rotor_settings(degen_mgr=degen_mgr, default_rpm=prop_rpm,\n",
    "                                                    default_template=rotor_rw)\n",
    "rotor_settings.icoll = 0\n",
    "rotor_settings.initial_collective = prop_collective\n",
    "rotor_settings.ct = 0.01\n",
    "rotor_settings.nspan_override = 50\n",
    "\n",
    "# Create velocity vector\n",
    "u_speed = airspeed_fts*math.cos(alpha_deg * u.deg2rad)\n",
    "v = 0.0\n",
    "w = airspeed_fts*math.sin(alpha_deg * u.deg2rad)\n",
    "\n",
    "# Create input file list\n",
    "files_to_write = charm.build_charm_input_files(degen_mgr=degen_mgr, case_name=charm_casename,\n",
    "                                              rotor_settings=rotor_settings,\n",
    "                                              unit_factor=u.in2ft,\n",
    "                                              run_char_filename=os.path.join(base_directory,\n",
    "                                                                             template_directory,charm_rc_template),\n",
    "                                              velocity=[u_speed, v, w])\n",
    "\n",
    "\n",
    "run_dir_name = 'run_v{:.3}_tilt_{:3.2f}_alpha_{:3.2f}'.format(airspeed_fts, tilt_deg, alpha_deg)"
   ]
  },
  {
   "cell_type": "markdown",
   "metadata": {},
   "source": [
    "### Write out the files\n",
    "Now that the files have been generate and are currently stored in memory, we can write them out a directory where we can execute charm"
   ]
  },
  {
   "cell_type": "code",
   "execution_count": null,
   "metadata": {
    "collapsed": true
   },
   "outputs": [],
   "source": [
    "cwd = os.getcwd()\n",
    "try:\n",
    "    charm_exe_dir = os.path.join(base_directory, run_directory, run_dir_name)\n",
    "    os.makedirs(charm_exe_dir, exist_ok=overwrite_files)\n",
    "    os.chdir(charm_exe_dir)\n",
    "    \n",
    "    for filename, file_contents in files_to_write.items():\n",
    "        with open(filename, 'w') as f:\n",
    "            f.write(file_contents)\n",
    "finally:\n",
    "    os.chdir(cwd)"
   ]
  },
  {
   "cell_type": "markdown",
   "metadata": {},
   "source": [
    "### Next Steps\n",
    "Now that the charm input files have been generated, you can go to the output directory and start running CHARM."
   ]
  }
 ],
 "metadata": {
  "kernelspec": {
   "display_name": "Python 3",
   "language": "python",
   "name": "python3"
  },
  "language_info": {
   "codemirror_mode": {
    "name": "ipython",
    "version": 3
   },
   "file_extension": ".py",
   "mimetype": "text/x-python",
   "name": "python",
   "nbconvert_exporter": "python",
   "pygments_lexer": "ipython3",
   "version": "3.6.3"
  }
 },
 "nbformat": 4,
 "nbformat_minor": 2
}
